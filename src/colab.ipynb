{
 "cells": [
  {
   "cell_type": "code",
   "execution_count": null,
   "metadata": {},
   "outputs": [],
   "source": [
    "from pytorch_lightning.callbacks import ModelCheckpoint, EarlyStopping\n",
    "from pytorch_lightning.loggers import TensorBoardLogger\n",
    "from pytorch_lightning import Trainer\n",
    "from torch import dtype\n",
    "from config import hparams\n",
    "import os\n",
    "from train import Model\n",
    "from argparse import ArgumentParser\n",
    "from recommenders.datasets import mind"
   ]
  },
  {
   "cell_type": "code",
   "execution_count": null,
   "metadata": {},
   "outputs": [],
   "source": [
    "GPU = \"0\"\n",
    "EPOCHS = 50\n",
    "\n",
    "os.environ[\"CUDA_VISIBLE_DEVICES\"] = GPU\n",
    "\n",
    "model = Model(hparams)\n",
    "checkpoint_callback = ModelCheckpoint(\n",
    "    dirpath=f'lightning_logs/{hparams[\"name\"]}/{hparams[\"version\"]}/',\n",
    "    filename=\"{epoch}-{auroc:.2f}\",\n",
    "    save_top_k=3,\n",
    "    verbose=True,\n",
    "    monitor=\"auroc\",\n",
    "    mode=\"max\",\n",
    "    save_last=True,\n",
    ")\n",
    "early_stop = EarlyStopping(\n",
    "    monitor=\"auroc\", min_delta=0.001, patience=5, strict=False, verbose=True, mode=\"max\"\n",
    ")\n",
    "logger = TensorBoardLogger(\n",
    "    save_dir=\"lightning_logs\", name=hparams[\"name\"], version=hparams[\"version\"]\n",
    ")\n",
    "\n",
    "trainer = Trainer(\n",
    "    max_epochs=EPOCHS,\n",
    "    accelerator=\"gpu\",\n",
    "    devices=1,\n",
    "    callbacks=[early_stop, checkpoint_callback],\n",
    "    logger=logger,\n",
    ")"
   ]
  },
  {
   "cell_type": "code",
   "execution_count": null,
   "metadata": {},
   "outputs": [],
   "source": [
    "trainer.fit(model)"
   ]
  }
 ],
 "metadata": {
  "language_info": {
   "name": "python"
  },
  "orig_nbformat": 4
 },
 "nbformat": 4,
 "nbformat_minor": 2
}
